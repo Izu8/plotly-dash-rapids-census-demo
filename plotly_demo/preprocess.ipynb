{
 "cells": [
  {
   "cell_type": "code",
   "execution_count": 2,
   "id": "693ea9ce-989e-4452-97ef-eb0e0feab8c6",
   "metadata": {},
   "outputs": [],
   "source": [
    "# from dask.distributed import Client, wait\n",
    "# from dask_cuda import LocalCUDACluster\n",
    "import dask_cudf\n",
    "import pickle\n",
    "\n",
    "# client = Client(LocalCUDACluster())"
   ]
  },
  {
   "cell_type": "code",
   "execution_count": 3,
   "id": "1b004776-0a61-4f63-a3db-8aa8466c36df",
   "metadata": {},
   "outputs": [],
   "source": [
    "full_path = \"../data/total_population_dataset.parquet\"\n",
    "\n",
    "df = dask_cudf.read_parquet(\n",
    "    full_path, columns=[\"easting\", \"northing\", \"race\", \"net\", \"county\"], split_row_groups=True\n",
    ")\n",
    "\n",
    "# Data reduction\n",
    "# df['race'] = df['race'].astype('uint8')\n",
    "# df['race'] = df['race'].astype('category')\n",
    "# df[\"easting\"], df[\"northing\"] = hv.Tiles.lon_lat_to_easting_northing(df[\"x\"], df[\"y\"])\n",
    "# df.drop(columns=['x','y'],inplace=True)\n",
    "# df['net'] = df['net'].astype('int8')\n",
    "# df['county'] = df['county'].astype('uint16')\n",
    "# df[['easting','northing']] = df[['easting','northing']].astype('float32')\n",
    "# df.to_parquet('data/total_population_3857_reduced-f32.parquet')\n",
    "\n",
    "id2county = pickle.load(open(\"../id2county.pkl\", \"rb\"))\n",
    "county2id = {v: k for k, v in id2county.items()}\n",
    "id2race = {\n",
    "    0: \"All\",\n",
    "    1: \"White\",\n",
    "    2: \"African American\",\n",
    "    3: \"American Indian\",\n",
    "    4: \"Asian alone\",\n",
    "    5: \"Native Hawaiian\",\n",
    "    6: \"Other Race alone\",\n",
    "    7: \"Two or More\",\n",
    "}\n",
    "race2id = {v: k for k, v in id2race.items()}\n",
    "df[\"race\"] = df[\"race\"].astype(\"int8\")"
   ]
  },
  {
   "cell_type": "code",
   "execution_count": 6,
   "id": "946954b7-3ef0-4be0-89c2-f5c47a95b4e7",
   "metadata": {},
   "outputs": [],
   "source": [
    "df.to_parquet(\"../data/total_population_dataset_final.parquet\")"
   ]
  },
  {
   "cell_type": "code",
   "execution_count": 8,
   "id": "afe13deb-01ef-46e4-9ac3-6ce5ff19a6c7",
   "metadata": {},
   "outputs": [
    {
     "data": {
      "text/html": [
       "<div>\n",
       "<style scoped>\n",
       "    .dataframe tbody tr th:only-of-type {\n",
       "        vertical-align: middle;\n",
       "    }\n",
       "\n",
       "    .dataframe tbody tr th {\n",
       "        vertical-align: top;\n",
       "    }\n",
       "\n",
       "    .dataframe thead th {\n",
       "        text-align: right;\n",
       "    }\n",
       "</style>\n",
       "<table border=\"1\" class=\"dataframe\">\n",
       "  <thead>\n",
       "    <tr style=\"text-align: right;\">\n",
       "      <th></th>\n",
       "      <th>easting</th>\n",
       "      <th>northing</th>\n",
       "      <th>race</th>\n",
       "      <th>net</th>\n",
       "      <th>county</th>\n",
       "    </tr>\n",
       "  </thead>\n",
       "  <tbody>\n",
       "    <tr>\n",
       "      <th>0</th>\n",
       "      <td>-9626792.0</td>\n",
       "      <td>3825189.75</td>\n",
       "      <td>1</td>\n",
       "      <td>0</td>\n",
       "      <td>0</td>\n",
       "    </tr>\n",
       "    <tr>\n",
       "      <th>1</th>\n",
       "      <td>-9626832.0</td>\n",
       "      <td>3825073.75</td>\n",
       "      <td>1</td>\n",
       "      <td>0</td>\n",
       "      <td>0</td>\n",
       "    </tr>\n",
       "    <tr>\n",
       "      <th>2</th>\n",
       "      <td>-9627101.0</td>\n",
       "      <td>3825153.50</td>\n",
       "      <td>1</td>\n",
       "      <td>0</td>\n",
       "      <td>0</td>\n",
       "    </tr>\n",
       "    <tr>\n",
       "      <th>3</th>\n",
       "      <td>-9627149.0</td>\n",
       "      <td>3825322.75</td>\n",
       "      <td>1</td>\n",
       "      <td>0</td>\n",
       "      <td>0</td>\n",
       "    </tr>\n",
       "    <tr>\n",
       "      <th>4</th>\n",
       "      <td>-9627159.0</td>\n",
       "      <td>3825334.75</td>\n",
       "      <td>1</td>\n",
       "      <td>0</td>\n",
       "      <td>0</td>\n",
       "    </tr>\n",
       "  </tbody>\n",
       "</table>\n",
       "</div>"
      ],
      "text/plain": [
       "     easting    northing  race  net  county\n",
       "0 -9626792.0  3825189.75     1    0       0\n",
       "1 -9626832.0  3825073.75     1    0       0\n",
       "2 -9627101.0  3825153.50     1    0       0\n",
       "3 -9627149.0  3825322.75     1    0       0\n",
       "4 -9627159.0  3825334.75     1    0       0"
      ]
     },
     "execution_count": 8,
     "metadata": {},
     "output_type": "execute_result"
    }
   ],
   "source": [
    "df.head()"
   ]
  }
 ],
 "metadata": {
  "kernelspec": {
   "display_name": "Python 3 (ipykernel)",
   "language": "python",
   "name": "python3"
  },
  "language_info": {
   "codemirror_mode": {
    "name": "ipython",
    "version": 3
   },
   "file_extension": ".py",
   "mimetype": "text/x-python",
   "name": "python",
   "nbconvert_exporter": "python",
   "pygments_lexer": "ipython3",
   "version": "3.9.13"
  }
 },
 "nbformat": 4,
 "nbformat_minor": 5
}
